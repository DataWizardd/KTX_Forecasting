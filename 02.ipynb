{
 "cells": [
  {
   "cell_type": "code",
   "execution_count": 1,
   "id": "1d441d2f",
   "metadata": {
    "ExecuteTime": {
     "end_time": "2024-05-22T17:51:47.539801Z",
     "start_time": "2024-05-22T17:43:44.586288Z"
    }
   },
   "outputs": [
    {
     "name": "stdout",
     "output_type": "stream",
     "text": [
      "Requirement already satisfied: pandas in c:\\users\\james\\anaconda3\\lib\\site-packages (1.3.0)\n",
      "Requirement already satisfied: numpy in c:\\users\\james\\anaconda3\\lib\\site-packages (1.23.5)\n",
      "Requirement already satisfied: matplotlib in c:\\users\\james\\anaconda3\\lib\\site-packages (3.5.2)\n",
      "Requirement already satisfied: seaborn in c:\\users\\james\\anaconda3\\lib\\site-packages (0.11.2)\n",
      "Requirement already satisfied: scikit-learn in c:\\users\\james\\anaconda3\\lib\\site-packages (1.0.2)\n",
      "Requirement already satisfied: openpyxl in c:\\users\\james\\anaconda3\\lib\\site-packages (3.0.10)\n",
      "Requirement already satisfied: python-dateutil>=2.7.3 in c:\\users\\james\\anaconda3\\lib\\site-packages (from pandas) (2.8.2)\n",
      "Requirement already satisfied: pytz>=2017.3 in c:\\users\\james\\anaconda3\\lib\\site-packages (from pandas) (2022.1)\n",
      "Requirement already satisfied: cycler>=0.10 in c:\\users\\james\\anaconda3\\lib\\site-packages (from matplotlib) (0.11.0)\n",
      "Requirement already satisfied: fonttools>=4.22.0 in c:\\users\\james\\anaconda3\\lib\\site-packages (from matplotlib) (4.25.0)\n",
      "Requirement already satisfied: kiwisolver>=1.0.1 in c:\\users\\james\\anaconda3\\lib\\site-packages (from matplotlib) (1.4.2)\n",
      "Requirement already satisfied: packaging>=20.0 in c:\\users\\james\\anaconda3\\lib\\site-packages (from matplotlib) (21.3)\n",
      "Requirement already satisfied: pillow>=6.2.0 in c:\\users\\james\\anaconda3\\lib\\site-packages (from matplotlib) (9.2.0)\n",
      "Requirement already satisfied: pyparsing>=2.2.1 in c:\\users\\james\\anaconda3\\lib\\site-packages (from matplotlib) (3.0.9)\n",
      "Requirement already satisfied: scipy>=1.0 in c:\\users\\james\\anaconda3\\lib\\site-packages (from seaborn) (1.9.1)\n",
      "Requirement already satisfied: joblib>=0.11 in c:\\users\\james\\anaconda3\\lib\\site-packages (from scikit-learn) (1.1.0)\n",
      "Requirement already satisfied: threadpoolctl>=2.0.0 in c:\\users\\james\\anaconda3\\lib\\site-packages (from scikit-learn) (3.1.0)\n",
      "Requirement already satisfied: et_xmlfile in c:\\users\\james\\anaconda3\\lib\\site-packages (from openpyxl) (1.1.0)\n",
      "Requirement already satisfied: six>=1.5 in c:\\users\\james\\anaconda3\\lib\\site-packages (from python-dateutil>=2.7.3->pandas) (1.16.0)\n"
     ]
    },
    {
     "name": "stderr",
     "output_type": "stream",
     "text": [
      "\n",
      "[notice] A new release of pip is available: 23.1.2 -> 24.0\n",
      "[notice] To update, run: python.exe -m pip install --upgrade pip\n",
      "C:\\Users\\james\\anaconda3\\lib\\site-packages\\openpyxl\\styles\\stylesheet.py:226: UserWarning: Workbook contains no default style, apply openpyxl's default\n",
      "  warn(\"Workbook contains no default style, apply openpyxl's default\")\n"
     ]
    },
    {
     "name": "stdout",
     "output_type": "stream",
     "text": [
      "DataFrame 1:\n",
      "        운행년월  Unnamed: 1           운행일자 운행요일구분   운행년도 주운행선   역무열차종  메트릭  \\\n",
      "0  2015년 01월     2015.01  2015년 01월 01일      목  2015년  경부선     KTX  NaN   \n",
      "1  2015년 01월     2015.01  2015년 01월 01일      목  2015년  경부선    새마을호  NaN   \n",
      "2  2015년 01월     2015.01  2015년 01월 01일      목  2015년  경부선    무궁화호  NaN   \n",
      "3  2015년 01월     2015.01  2015년 01월 01일      목  2015년  경부선     누리로  NaN   \n",
      "4  2015년 01월     2015.01  2015년 01월 01일      목  2015년  경부선  KTX-산천  NaN   \n",
      "\n",
      "   공급차량수  공급좌석합계수      승차수입금액   승차인원수     승차연인거리       좌석거리  \n",
      "0   2016   104152  3725143600  101525  288685921  440665165  \n",
      "1     38     2432    66411200    3563    8543090   10746496  \n",
      "2    366    25812   518790400   65797   86492073   96079902  \n",
      "3     40     2630    17088900    3988    2818725    3050800  \n",
      "4    112     5082   176309700    5142   13328413   19245897  \n",
      "\n",
      "\n",
      "DataFrame 2:\n",
      "        운행년월  Unnamed: 1           운행일자 운행요일구분   운행년도 주운행선    역무열차종  메트릭  \\\n",
      "0  2023년 05월     2023.05  2023년 05월 01일      월  2023년  경부선      KTX  NaN   \n",
      "1  2023년 05월     2023.05  2023년 05월 01일      월  2023년  경부선     무궁화호  NaN   \n",
      "2  2023년 05월     2023.05  2023년 05월 01일      월  2023년  경부선      누리로  NaN   \n",
      "3  2023년 05월     2023.05  2023년 05월 01일      월  2023년  경부선   KTX-산천  NaN   \n",
      "4  2023년 05월     2023.05  2023년 05월 01일      월  2023년  경부선  ITX-새마을  NaN   \n",
      "\n",
      "   공급차량수  공급좌석합계수      승차수입금액   승차인원수     승차연인거리       좌석거리  \n",
      "0   1746    92507  3500920818  107396  268894697  379438263  \n",
      "1    275    17648   289344200   58958   48233263   51465856  \n",
      "2      8      526      348366     153      54045     607004  \n",
      "3     16      758    38796426    1278    2853628    3220363  \n",
      "4    120     7520   250527560   21680   27757442   33934752  \n",
      "\n",
      "\n",
      "DataFrame 3:\n",
      "            운행일자 운행요일구분 열차속성 열차구분 주운행선 시발역 종착역 상행하행구분   역무열차종  메트릭  공급좌석수  \\\n",
      "0  2015년 01월 01일      목   일반   확정  경부선  서울  대전     하행     KTX  NaN    931   \n",
      "1  2015년 01월 01일      목   일반   확정  경부선  서울  대전     하행  KTX-산천  NaN    363   \n",
      "2  2015년 01월 01일      목   일반   확정  경부선  서울  부산     하행     KTX  NaN  35318   \n",
      "3  2015년 01월 01일      목   일반   확정  경부선  서울  부산     하행  KTX-산천  NaN   1089   \n",
      "4  2015년 01월 01일      목   일반   확정  경부선  대전  서울     상행     KTX  NaN    931   \n",
      "\n",
      "   설비좌석수  열차운행횟수  \n",
      "0    931       1  \n",
      "1    363       1  \n",
      "2  35318      38  \n",
      "3   1089       2  \n",
      "4    931       1  \n",
      "\n",
      "\n",
      "DataFrame 4:\n",
      "            운행일자 운행요일구분   열차속성 열차구분   역무열차종 주운행선 시발역 종착역 상행하행구분  메트릭  공급좌석수  \\\n",
      "0  2023년 05월 01일      월     일반   확정     KTX  경부선  부산  서울     상행  NaN   2865   \n",
      "1  2023년 05월 01일      월     일반   확정     KTX  경부선  부산  행신     상행  NaN    955   \n",
      "2  2023년 05월 01일      월     일반   확정  KTX-산천  호남선  용산  익산     하행  NaN    410   \n",
      "3  2023년 05월 01일      월     일반   확정  KTX-호남  경부선  부산  서울     상행  NaN    410   \n",
      "4  2023년 05월 01일      월  일반/관광   확정     KTX  경부선  서울  대전     하행  NaN    955   \n",
      "\n",
      "   설비좌석수  열차운행횟수  \n",
      "0   2880       3  \n",
      "1    960       1  \n",
      "2    413       1  \n",
      "3    413       1  \n",
      "4    960       1  \n",
      "\n",
      "\n"
     ]
    }
   ],
   "source": [
    "# 필요한 라이브러리 설치\n",
    "!pip install pandas numpy matplotlib seaborn scikit-learn openpyxl\n",
    "\n",
    "# 라이브러리 임포트\n",
    "import pandas as pd\n",
    "import numpy as np\n",
    "import matplotlib.pyplot as plt\n",
    "import seaborn as sns\n",
    "from sklearn.model_selection import train_test_split\n",
    "from sklearn.linear_model import LinearRegression\n",
    "from sklearn.metrics import mean_squared_error, r2_score\n",
    "\n",
    "# 데이터 파일 경로\n",
    "file_paths = [\n",
    "    r\"C:\\Users\\james\\DATA_LAB\\KTX_Forecasting\\data\\(간선)수송-운행일-주운행(201501-202305).xlsx\",\n",
    "    r\"C:\\Users\\james\\DATA_LAB\\KTX_Forecasting\\data\\(간선)수송-운행일-주운행(202305-202403).xlsx\",\n",
    "    r\"C:\\Users\\james\\DATA_LAB\\KTX_Forecasting\\data\\(간선)시종착역별 열차운행(201501-202305).xlsx\",\n",
    "    r\"C:\\Users\\james\\DATA_LAB\\KTX_Forecasting\\data\\(간선)시종착역별 열차운행(202305-202403).xlsx\"\n",
    "]\n",
    "\n",
    "# 데이터 로드 (지정된 행을 열 이름으로 사용)\n",
    "data_frames = [\n",
    "    pd.read_excel(file_paths[0], header=5),\n",
    "    pd.read_excel(file_paths[1], header=5),\n",
    "    pd.read_excel(file_paths[2], header=8),\n",
    "    pd.read_excel(file_paths[3], header=8)\n",
    "]\n",
    "\n",
    "# 데이터 확인\n",
    "for i, df in enumerate(data_frames):\n",
    "    print(f\"DataFrame {i+1}:\")\n",
    "    print(df.head())\n",
    "    print(\"\\n\")\n",
    "\n",
    "# 데이터 결합\n",
    "df_demand = pd.concat([data_frames[0], data_frames[1]], ignore_index=True)\n",
    "df_info = pd.concat([data_frames[2], data_frames[3]], ignore_index=True)\n",
    "\n",
    "# 불필요한 열 삭제\n",
    "df_demand.drop(columns=['Unnamed: 1', '운행년도', '운행년월', '운행요일구분', '역무열차종', '메트릭'], inplace=True)\n",
    "df_info.drop(columns=['상행하행구분', '역무열차종', '운행요일구분', '메트릭'], inplace=True)\n",
    "\n",
    "# 결합된 데이터 저장\n",
    "df_demand.to_excel(r\"C:\\Users\\james\\DATA_LAB\\KTX_Forecasting\\data\\df_demand_processed.xlsx\", index=False)\n",
    "df_info.to_excel(r\"C:\\Users\\james\\DATA_LAB\\KTX_Forecasting\\data\\df_info_processed.xlsx\", index=False)\n"
   ]
  },
  {
   "cell_type": "code",
   "execution_count": 2,
   "id": "9cb759cc",
   "metadata": {
    "ExecuteTime": {
     "end_time": "2024-05-22T18:10:41.589435Z",
     "start_time": "2024-05-22T18:10:41.152278Z"
    }
   },
   "outputs": [],
   "source": [
    "#주운행선(경부선, 경전선, 동해선, 호남선, 전라선)으로 데이터를 필터링하여 분석 범위를 좁힘\n",
    "df_demand = df_demand[df_demand['주운행선'].isin(['경부선', '경전선', '동해선', '호남선', '전라선'])]\n",
    "df_info = df_info[df_info['주운행선'].isin(['경부선', '경전선', '동해선', '호남선', '전라선'])]\n",
    "df_demand = df_demand.reset_index().iloc[:,1:]\n",
    "df_info = df_info.reset_index().iloc[:,1:]"
   ]
  }
 ],
 "metadata": {
  "hide_input": false,
  "kernelspec": {
   "display_name": "Python 3 (ipykernel)",
   "language": "python",
   "name": "python3"
  },
  "language_info": {
   "codemirror_mode": {
    "name": "ipython",
    "version": 3
   },
   "file_extension": ".py",
   "mimetype": "text/x-python",
   "name": "python",
   "nbconvert_exporter": "python",
   "pygments_lexer": "ipython3",
   "version": "3.9.13"
  },
  "toc": {
   "base_numbering": 1,
   "nav_menu": {},
   "number_sections": true,
   "sideBar": true,
   "skip_h1_title": false,
   "title_cell": "Table of Contents",
   "title_sidebar": "Contents",
   "toc_cell": false,
   "toc_position": {},
   "toc_section_display": true,
   "toc_window_display": false
  },
  "varInspector": {
   "cols": {
    "lenName": 16,
    "lenType": 16,
    "lenVar": 40
   },
   "kernels_config": {
    "python": {
     "delete_cmd_postfix": "",
     "delete_cmd_prefix": "del ",
     "library": "var_list.py",
     "varRefreshCmd": "print(var_dic_list())"
    },
    "r": {
     "delete_cmd_postfix": ") ",
     "delete_cmd_prefix": "rm(",
     "library": "var_list.r",
     "varRefreshCmd": "cat(var_dic_list()) "
    }
   },
   "types_to_exclude": [
    "module",
    "function",
    "builtin_function_or_method",
    "instance",
    "_Feature"
   ],
   "window_display": false
  }
 },
 "nbformat": 4,
 "nbformat_minor": 5
}
